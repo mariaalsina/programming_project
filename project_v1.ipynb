{
 "cells": [
  {
   "cell_type": "markdown",
   "metadata": {},
   "source": [
    "## OKUN'S LAW: Economic growth and unemployment"
   ]
  },
  {
   "cell_type": "code",
   "execution_count": 1,
   "metadata": {
    "collapsed": true
   },
   "outputs": [],
   "source": [
    "## Import data"
   ]
  },
  {
   "cell_type": "code",
   "execution_count": 27,
   "metadata": {
    "collapsed": true
   },
   "outputs": [],
   "source": [
    "import json\n",
    "import requests\n",
    "\n",
    "url='https://www.quandl.com/api/v3/datasets/FRED/GDPPOT.json?api_key=GsTeqUdsRNrJ3C3VHZey&start_date=2000-01-01&end_date=2015-12-31'\n",
    "response = requests.get(url)\n",
    "\n",
    "gdpdataraw = json.loads(response.text)\n"
   ]
  },
  {
   "cell_type": "code",
   "execution_count": 28,
   "metadata": {},
   "outputs": [],
   "source": [
    "gdpdata=gdpdataraw ['dataset'] ['data']"
   ]
  },
  {
   "cell_type": "code",
   "execution_count": 29,
   "metadata": {},
   "outputs": [
    {
     "data": {
      "text/plain": [
       "[['2015-10-01', 16673.3],\n",
       " ['2015-07-01', 16607.0],\n",
       " ['2015-04-01', 16540.2],\n",
       " ['2015-01-01', 16473.1],\n",
       " ['2014-10-01', 16405.7],\n",
       " ['2014-07-01', 16338.6],\n",
       " ['2014-04-01', 16272.1],\n",
       " ['2014-01-01', 16206.5],\n",
       " ['2013-10-01', 16142.8],\n",
       " ['2013-07-01', 16079.7],\n",
       " ['2013-04-01', 16017.8],\n",
       " ['2013-01-01', 15957.4],\n",
       " ['2012-10-01', 15898.6],\n",
       " ['2012-07-01', 15841.8],\n",
       " ['2012-04-01', 15787.0],\n",
       " ['2012-01-01', 15734.5],\n",
       " ['2011-10-01', 15684.9],\n",
       " ['2011-07-01', 15637.2],\n",
       " ['2011-04-01', 15591.9],\n",
       " ['2011-01-01', 15549.0],\n",
       " ['2010-10-01', 15508.2],\n",
       " ['2010-07-01', 15473.4],\n",
       " ['2010-04-01', 15439.9],\n",
       " ['2010-01-01', 15406.4],\n",
       " ['2009-10-01', 15372.0],\n",
       " ['2009-07-01', 15333.2],\n",
       " ['2009-04-01', 15291.1],\n",
       " ['2009-01-01', 15244.8],\n",
       " ['2008-10-01', 15190.4],\n",
       " ['2008-07-01', 15130.9],\n",
       " ['2008-04-01', 15068.3],\n",
       " ['2008-01-01', 15003.7],\n",
       " ['2007-10-01', 14939.7],\n",
       " ['2007-07-01', 14876.2],\n",
       " ['2007-04-01', 14811.9],\n",
       " ['2007-01-01', 14746.7],\n",
       " ['2006-10-01', 14681.3],\n",
       " ['2006-07-01', 14614.4],\n",
       " ['2006-04-01', 14545.4],\n",
       " ['2006-01-01', 14473.7],\n",
       " ['2005-10-01', 14397.4],\n",
       " ['2005-07-01', 14315.9],\n",
       " ['2005-04-01', 14231.7],\n",
       " ['2005-01-01', 14145.5],\n",
       " ['2004-10-01', 14057.8],\n",
       " ['2004-07-01', 13969.9],\n",
       " ['2004-04-01', 13882.0],\n",
       " ['2004-01-01', 13794.4],\n",
       " ['2003-10-01', 13709.6],\n",
       " ['2003-07-01', 13626.3],\n",
       " ['2003-04-01', 13543.2],\n",
       " ['2003-01-01', 13459.6],\n",
       " ['2002-10-01', 13374.6],\n",
       " ['2002-07-01', 13289.5],\n",
       " ['2002-04-01', 13202.2],\n",
       " ['2002-01-01', 13111.9],\n",
       " ['2001-10-01', 13016.9],\n",
       " ['2001-07-01', 12915.4],\n",
       " ['2001-04-01', 12809.8],\n",
       " ['2001-01-01', 12700.4],\n",
       " ['2000-10-01', 12586.2],\n",
       " ['2000-07-01', 12469.5],\n",
       " ['2000-04-01', 12350.9],\n",
       " ['2000-01-01', 12231.1]]"
      ]
     },
     "execution_count": 29,
     "metadata": {},
     "output_type": "execute_result"
    }
   ],
   "source": [
    "gdpdata"
   ]
  },
  {
   "cell_type": "code",
   "execution_count": 30,
   "metadata": {},
   "outputs": [
    {
     "data": {
      "text/plain": [
       "list"
      ]
     },
     "execution_count": 30,
     "metadata": {},
     "output_type": "execute_result"
    }
   ],
   "source": [
    "type(gdpdata)"
   ]
  },
  {
   "cell_type": "code",
   "execution_count": 32,
   "metadata": {
    "collapsed": true
   },
   "outputs": [],
   "source": [
    "import json\n",
    "import requests\n",
    "\n",
    "url='https://www.quandl.com/api/v3/datasets/FRED/NROUST.json?api_key=GsTeqUdsRNrJ3C3VHZey&start_date=2000-01-01&end_date=2015-12-31'\n",
    "response = requests.get(url)\n",
    "\n",
    "unempldataraw = json.loads(response.text)"
   ]
  },
  {
   "cell_type": "code",
   "execution_count": 33,
   "metadata": {
    "scrolled": true
   },
   "outputs": [],
   "source": [
    "unempldata= unempldataraw ['dataset'] ['data']\n"
   ]
  },
  {
   "cell_type": "code",
   "execution_count": 34,
   "metadata": {},
   "outputs": [
    {
     "data": {
      "text/plain": [
       "[['2015-10-01', 4.76],\n",
       " ['2015-07-01', 4.77],\n",
       " ['2015-04-01', 4.79],\n",
       " ['2015-01-01', 4.83],\n",
       " ['2014-10-01', 4.88],\n",
       " ['2014-07-01', 4.94],\n",
       " ['2014-04-01', 4.99],\n",
       " ['2014-01-01', 5.07],\n",
       " ['2013-10-01', 5.18],\n",
       " ['2013-07-01', 5.29],\n",
       " ['2013-04-01', 5.4],\n",
       " ['2013-01-01', 5.54],\n",
       " ['2012-10-01', 5.68],\n",
       " ['2012-07-01', 5.74],\n",
       " ['2012-04-01', 5.81],\n",
       " ['2012-01-01', 5.84],\n",
       " ['2011-10-01', 5.88],\n",
       " ['2011-07-01', 5.85],\n",
       " ['2011-04-01', 5.84],\n",
       " ['2011-01-01', 5.82],\n",
       " ['2010-10-01', 5.78],\n",
       " ['2010-07-01', 5.74],\n",
       " ['2010-04-01', 5.71],\n",
       " ['2010-01-01', 5.66],\n",
       " ['2009-10-01', 5.51],\n",
       " ['2009-07-01', 5.41],\n",
       " ['2009-04-01', 5.3],\n",
       " ['2009-01-01', 5.2],\n",
       " ['2008-10-01', 5.11],\n",
       " ['2008-07-01', 5.01],\n",
       " ['2008-04-01', 4.98],\n",
       " ['2008-01-01', 4.93],\n",
       " ['2007-10-01', 4.93],\n",
       " ['2007-07-01', 4.94],\n",
       " ['2007-04-01', 4.94],\n",
       " ['2007-01-01', 4.95],\n",
       " ['2006-10-01', 4.95],\n",
       " ['2006-07-01', 4.96],\n",
       " ['2006-04-01', 4.97],\n",
       " ['2006-01-01', 4.97],\n",
       " ['2005-10-01', 4.98],\n",
       " ['2005-07-01', 5.0],\n",
       " ['2005-04-01', 5.0],\n",
       " ['2005-01-01', 5.0],\n",
       " ['2004-10-01', 5.0],\n",
       " ['2004-07-01', 5.0],\n",
       " ['2004-04-01', 5.0],\n",
       " ['2004-01-01', 5.0],\n",
       " ['2003-10-01', 5.0],\n",
       " ['2003-07-01', 5.0],\n",
       " ['2003-04-01', 5.0],\n",
       " ['2003-01-01', 5.0],\n",
       " ['2002-10-01', 5.0],\n",
       " ['2002-07-01', 5.0],\n",
       " ['2002-04-01', 5.0],\n",
       " ['2002-01-01', 5.0],\n",
       " ['2001-10-01', 5.0],\n",
       " ['2001-07-01', 5.0],\n",
       " ['2001-04-01', 5.0],\n",
       " ['2001-01-01', 5.0],\n",
       " ['2000-10-01', 5.0],\n",
       " ['2000-07-01', 5.01],\n",
       " ['2000-04-01', 5.01],\n",
       " ['2000-01-01', 5.01]]"
      ]
     },
     "execution_count": 34,
     "metadata": {},
     "output_type": "execute_result"
    }
   ],
   "source": [
    "unempldata\n"
   ]
  },
  {
   "cell_type": "code",
   "execution_count": null,
   "metadata": {
    "collapsed": true
   },
   "outputs": [],
   "source": [
    "# Merge the datasets need to figure out how to bind the two datasets"
   ]
  },
  {
   "cell_type": "code",
   "execution_count": 35,
   "metadata": {},
   "outputs": [
    {
     "ename": "NameError",
     "evalue": "name 'total' is not defined",
     "output_type": "error",
     "traceback": [
      "\u001b[1;31m---------------------------------------------------------------------------\u001b[0m",
      "\u001b[1;31mNameError\u001b[0m                                 Traceback (most recent call last)",
      "\u001b[1;32m<ipython-input-35-dac32d874dd4>\u001b[0m in \u001b[0;36m<module>\u001b[1;34m()\u001b[0m\n\u001b[1;32m----> 1\u001b[1;33m \u001b[0mtotal\u001b[0m \u001b[1;33m<\u001b[0m\u001b[1;33m-\u001b[0m \u001b[0mrbind\u001b[0m\u001b[1;33m(\u001b[0m\u001b[0mgdpdata\u001b[0m\u001b[1;33m,\u001b[0m \u001b[0munempldata\u001b[0m\u001b[1;33m)\u001b[0m\u001b[1;33m\u001b[0m\u001b[0m\n\u001b[0m",
      "\u001b[1;31mNameError\u001b[0m: name 'total' is not defined"
     ]
    }
   ],
   "source": [
    "total <- rbind(gdpdata, unempldata)"
   ]
  },
  {
   "cell_type": "code",
   "execution_count": null,
   "metadata": {
    "collapsed": true
   },
   "outputs": [],
   "source": []
  },
  {
   "cell_type": "code",
   "execution_count": null,
   "metadata": {
    "collapsed": true
   },
   "outputs": [],
   "source": []
  },
  {
   "cell_type": "code",
   "execution_count": null,
   "metadata": {
    "collapsed": true
   },
   "outputs": [],
   "source": []
  },
  {
   "cell_type": "code",
   "execution_count": null,
   "metadata": {
    "collapsed": true
   },
   "outputs": [],
   "source": []
  },
  {
   "cell_type": "code",
   "execution_count": null,
   "metadata": {
    "collapsed": true
   },
   "outputs": [],
   "source": []
  },
  {
   "cell_type": "code",
   "execution_count": null,
   "metadata": {
    "collapsed": true
   },
   "outputs": [],
   "source": []
  },
  {
   "cell_type": "code",
   "execution_count": null,
   "metadata": {
    "collapsed": true
   },
   "outputs": [],
   "source": []
  },
  {
   "cell_type": "code",
   "execution_count": null,
   "metadata": {
    "collapsed": true
   },
   "outputs": [],
   "source": []
  },
  {
   "cell_type": "code",
   "execution_count": null,
   "metadata": {
    "collapsed": true
   },
   "outputs": [],
   "source": []
  },
  {
   "cell_type": "code",
   "execution_count": null,
   "metadata": {
    "collapsed": true
   },
   "outputs": [],
   "source": []
  },
  {
   "cell_type": "code",
   "execution_count": null,
   "metadata": {
    "collapsed": true
   },
   "outputs": [],
   "source": []
  },
  {
   "cell_type": "code",
   "execution_count": null,
   "metadata": {
    "collapsed": true
   },
   "outputs": [],
   "source": []
  },
  {
   "cell_type": "code",
   "execution_count": null,
   "metadata": {
    "collapsed": true
   },
   "outputs": [],
   "source": []
  },
  {
   "cell_type": "code",
   "execution_count": null,
   "metadata": {
    "collapsed": true
   },
   "outputs": [],
   "source": []
  },
  {
   "cell_type": "code",
   "execution_count": null,
   "metadata": {
    "collapsed": true
   },
   "outputs": [],
   "source": []
  }
 ],
 "metadata": {
  "kernelspec": {
   "display_name": "Python 3",
   "language": "python",
   "name": "python3"
  },
  "language_info": {
   "codemirror_mode": {
    "name": "ipython",
    "version": 3
   },
   "file_extension": ".py",
   "mimetype": "text/x-python",
   "name": "python",
   "nbconvert_exporter": "python",
   "pygments_lexer": "ipython3",
   "version": "3.6.1"
  }
 },
 "nbformat": 4,
 "nbformat_minor": 2
}
